{
 "cells": [
  {
   "cell_type": "code",
   "execution_count": null,
   "id": "d87b0199-5f77-46f2-8fb4-08cc72f2b741",
   "metadata": {},
   "outputs": [],
   "source": [
    "#!pip install ydata-profiling\n",
    "from ydata_profiling import ProfileReport"
   ]
  }
 ],
 "metadata": {
  "kernelspec": {
   "display_name": "Python 3",
   "language": "python",
   "name": "python3"
  },
  "language_info": {
   "codemirror_mode": {
    "name": "ipython",
    "version": 3
   },
   "file_extension": ".py",
   "mimetype": "text/x-python",
   "name": "python",
   "nbconvert_exporter": "python",
   "pygments_lexer": "ipython3",
   "version": "3.8.8"
  }
 },
 "nbformat": 4,
 "nbformat_minor": 5
}
